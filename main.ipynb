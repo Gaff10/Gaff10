{
 "cells": [
  {
   "attachments": {},
   "cell_type": "markdown",
   "metadata": {},
   "source": [
    "# Laboration 1\n",
    "## LÄS DETTA FÖRST\n",
    "\n",
    "**Betyg**: U, G\n",
    "\n",
    "\n",
    "## Inlämning\n",
    "Ta bort alla onödiga filer, din kod bör vara på den huvudsakliga branchen \"main\" eller \"master\".\n",
    "Se till att du körde git clone på din EGEN repository för labben.\n",
    "Feedback ges via en speciell branch som skapas automatiskt, mer information om detta får du av utbildaren.\n",
    "\n",
    "## Regler\n",
    "Laborationen är individuell, och du ska inte använda AI-assisterad hjälp för att lösa uppgiften. Öva istället på att googla dig fram till svaret. Chattbottar / LLM-modeller likt chatGPT får endast användas att beskriva enskilda koncept. Att däremot skicka in en hel uppgift och be om en lösning är strikt förbjudet - detta hjälper dig inte träna på egen problemlösning, eftersom du deligerar tänkandet till någon annan. Jag märker väldigt enkelt när svar är AI-genererade!\n",
    "\n",
    "## Beskrivning:\n",
    "Du ska svara på frågorna. Du kommer antingen behöva svara med text, kod eller båda samtidigt. \n",
    "Du kan utnyttja kommentarer i python för att skriva text med # (hashtag-symbolen)\n",
    "Eller så kan du skapa ett markdown-block och sedan skriva text.\n",
    "För att sedan lägga till kod kan du skriva \n",
    "\n",
    "\\```python \n",
    "\n",
    "Kod här inne\n",
    "\n",
    "\\```\n",
    "\n",
    "\n",
    "DU SKA ALLTID SKRIVA DIN KOD + KOMMENTARER PÅ ENGELSKA!\n",
    "\n",
    "# Exempelfråga & Exempelsvar:\n",
    "\n",
    "What is a list, and why is it important? Answer with text and code.\n",
    "\n",
    "Answer:\n",
    "Lists are useful because we can group data in a logical way. Without lists, we would need to save everything in individual variables, which is not scalable for an application. For example, what happens if we have 100,000 students and each one needs a variable?\n",
    "\n",
    "```python\n",
    "\n",
    "# Bad:\n",
    "student_1 = \"Tobias\"\n",
    "student_2 = \"Alfred\"\n",
    "student_3 = \"Elina\"\n",
    "student_4 = \"Jessica\"\n",
    "\n",
    "# Good\n",
    "students = [\"Tobias\", \"Alfred\", \"Elina\", \"Jessica\"]\n",
    "student_1 = students[0]\n",
    "```\n",
    "\n",
    "\n"
   ]
  },
  {
   "cell_type": "code",
   "execution_count": 7,
   "metadata": {},
   "outputs": [],
   "source": [
    "# This makes it so that jupyter wont just output the last line, but everything that gets outputted.\n",
    "from IPython.core.interactiveshell import InteractiveShell\n",
    "InteractiveShell.ast_node_interactivity = \"all\""
   ]
  },
  {
   "attachments": {},
   "cell_type": "markdown",
   "metadata": {},
   "source": [
    "### Assignment 1\n",
    "\n",
    "We often say that there are statically typed languages and dynamically typed languages.\n",
    "Python is a dynamically typed language that has an \"interpreter\", i.e., the code we write is interpreted by a program that converts it to binary numbers. What does this mean in practice for us when we write code, i.e., that Python is dynamically typed?\n",
    "\n",
    "Answer with code and comments."
   ]
  },
  {
   "cell_type": "code",
   "execution_count": null,
   "metadata": {},
   "outputs": [],
   "source": [
    "x = 5          # x is a int\n",
    "x = \"Hej!\"     # x becomes a string \n",
    "x = 3.14       # x becomes a float\n",
    "\n",
    "\n"
   ]
  },
  {
   "cell_type": "code",
   "execution_count": null,
   "metadata": {},
   "outputs": [],
   "source": []
  },
  {
   "attachments": {},
   "cell_type": "markdown",
   "metadata": {},
   "source": [
    "### Task 2\n",
    "How do I check what type a variable has? Why can this be useful?\n",
    "\n",
    "Answer with code below and write comments above or beside it."
   ]
  },
  {
   "cell_type": "code",
   "execution_count": null,
   "metadata": {},
   "outputs": [],
   "source": [
    "# To check the variable type, I use type() to see what type it is.\n",
    "x = 10\n",
    "print(type(x))  # Prints int\n",
    "\n",
    "x = \"Hej\"\n",
    "print(type(x))  # Prints string\n",
    "\n"
   ]
  },
  {
   "attachments": {},
   "cell_type": "markdown",
   "metadata": {},
   "source": [
    "### Task 3\n",
    "The variables a, b, c are text strings that each contain a decimal number. Convert them to float and print their sum using print."
   ]
  },
  {
   "cell_type": "code",
   "execution_count": null,
   "metadata": {},
   "outputs": [],
   "source": [
    "a = '5.61'\n",
    "b = '2.15'\n",
    "c = '7.27'\n",
    "\n",
    "# Convert strings to floats\n",
    "float_a = float(a)\n",
    "float_b = float(b)\n",
    "float_c = float(c)\n",
    "\n",
    "# Print the converted values\n",
    "print(float_a)\n",
    "print(float_b)\n",
    "print(float_c)\n"
   ]
  },
  {
   "attachments": {},
   "cell_type": "markdown",
   "metadata": {},
   "source": [
    "### Task 4\n",
    "\n",
    "The function `randrange(start, end)` in the `random` module generates a random number between _start_ and _end - 1_. So `randrange(5, 10)` gives numbers between 5 and 9.\n",
    "\n",
    "Use randrange to simulate **two** dice rolls (6-sided) and return the sum of the rolls.\n",
    "\n",
    "Do this by filling in the function `throw_dice()`."
   ]
  },
  {
   "cell_type": "code",
   "execution_count": 1,
   "metadata": {},
   "outputs": [
    {
     "name": "stdout",
     "output_type": "stream",
     "text": [
      "None\n"
     ]
    }
   ],
   "source": [
    "from random import randrange\n",
    "\n",
    "def throw_dice():\n",
    "    # Implement this function, remove the pass keyword.\n",
    "    # Remember - we only include pass to say \"I have not implemented this function YET, \n",
    "    # but I will do it later.\"\n",
    "    # So we ALWAYS remove pass once we start adding code to a function\n",
    "    pass\n",
    "\n",
    "print(throw_dice()) # Should output a number between 2 and 12 "
   ]
  },
  {
   "attachments": {},
   "cell_type": "markdown",
   "metadata": {},
   "source": [
    "### Task 5\n",
    "\n",
    "When we talk about functions, what is\n",
    "1. A parameter?\n",
    "2. An argument?\n",
    "\n",
    " # A parameter is a placeholder that can receive different values.\n",
    "# An argument is the actual value that you pass to the function when you use it.\n",
    "\n",
    "def hälsa(namn):  # Here, 'namn' is a parameter\n",
    "    print(f\"Hej, {namn}!\")  # We use the parameter inside the function\n",
    "\n",
    "# Here, an argument is passed.\n",
    "hälsa(\"Alice\")  # \"Alice\" is the argument\n"
   ]
  },
  {
   "attachments": {},
   "cell_type": "markdown",
   "metadata": {},
   "source": [
    "### Task 6\n",
    "\n",
    "You need to write a function that takes two numbers as arguments and returns the larger number.\n",
    "\n",
    "Example: print(largest(5, 13)) # Should print 13\n",
    "\n",
    "def largest(num1, num2):  # Here, two numbers are defined and received\n",
    "    if num1 > num2:  # This checks if num1 is greater than num2\n",
    "        return num1   # If so, return num1\n",
    "    else:\n",
    "        return num2   # Otherwise, return num2\n",
    "\n",
    "# Call the function and print the result\n",
    "print(largest(5, 13))  # Should print: 13\n"
   ]
  },
  {
   "cell_type": "code",
   "execution_count": null,
   "metadata": {},
   "outputs": [],
   "source": [
    "\n",
    "# Function that returns the larger number of two\n",
    "def largest(num1, num2):\n",
    "    # We create a function that will return the largest number using the two arguments.\n",
    "    return max(num1, num2)  # We use the max function to return the larger number of the two arguments.\n",
    "\n",
    "# call the funtion and print the result\n",
    "print(largest(5, 13))  # Should print 13\n",
    "\n",
    "\n"
   ]
  },
  {
   "cell_type": "markdown",
   "metadata": {},
   "source": [
    "### 6.1\n",
    "Write a function that converts Celsius to Fahrenheit.\n",
    "Formula: (C × 9/5) + 32 = F\n",
    "Example: print(celsius_to_fahrenheit(0)) # Should print 32.0\n",
    "Call the function to show me that it works"
   ]
  },
  {
   "cell_type": "code",
   "execution_count": null,
   "metadata": {},
   "outputs": [],
   "source": [
    "# Function that converts Celsius to Fahrenheit\n",
    "def celsius_to_fahrenheit(celsius):\n",
    "    # We create a function with the parameter celsius.\n",
    "    F = celsius * (9 / 5) + 32  # This is the formula that converts Celsius to Fahrenheit.\n",
    "    return F  # We return the result to get the value of the argument.\n",
    "\n",
    "# Test the function\n",
    "print(celsius_to_fahrenheit(0))  # Should print 32\n"
   ]
  },
  {
   "cell_type": "markdown",
   "metadata": {},
   "source": [
    "### 6.2\n",
    "\n",
    "Write a function that generates an email address given a username and domain.\n",
    "Example: print(generate_email(\"johndoe\", \"example.com\")) # Should print \"johndoe@example.com\""
   ]
  },
  {
   "cell_type": "code",
   "execution_count": null,
   "metadata": {},
   "outputs": [],
   "source": [
    "def generate_email(username, domain):\n",
    "    # Your code here\n",
    "    pass"
   ]
  },
  {
   "cell_type": "markdown",
   "metadata": {},
   "source": [
    "### 6.3\n",
    "Write a function that validates a username according to the following rules:\n",
    "- Must be between 3 and 20 characters long\n",
    "- Can only contain letters, numbers, and underscores\n",
    "- Must start with a letter\n",
    "Return True if the username is valid, False otherwise.\n",
    "\n",
    "Example: print(validate_username(\"john_doe123\")) # Should print True\n",
    "Example: print(validate_username(\"123john\")) # Should print False\n"
   ]
  },
  {
   "cell_type": "code",
   "execution_count": null,
   "metadata": {},
   "outputs": [],
   "source": [
    "def validate_username(username):\n",
    "    # Your code here\n",
    "    pass\n",
    "\n",
    "# Function that validates a username based on rules\n",
    "def validate_username(username):\n",
    "    # Check if the length of the username is between 3 and 20 characters\n",
    "    if len(username) < 3 or len(username) > 20:\n",
    "        return False\n",
    "\n",
    "    # Check each character in the username\n",
    "    for char in username:\n",
    "        # If the character is not a letter, number, or underscore, return False\n",
    "        if not (char.isalnum() or char == \"_\"):\n",
    "            return False\n",
    "\n",
    "    # Check that the first character is a letter\n",
    "    if not username[0].isalpha():\n",
    "        return False\n",
    "\n",
    "    # If all requirements are met, return True\n",
    "    return True\n",
    "\n",
    "# Test the function with a valid username\n",
    "print(validate_username(\"gaffar_haha\"))  # Should print True\n",
    "\n",
    "# Test the function with an invalid username\n",
    "print(validate_username(\"hahagaffar\"))  # Should print False\n",
    "\n"
   ]
  },
  {
   "cell_type": "markdown",
   "metadata": {},
   "source": [
    "### 6.4\n",
    "Write a function that performs a basic validation of an email address.\n",
    "It can be a fairly simple function, or you could try to look up how it's done in real life (copy-pasting is fine - as long as you understand it)\n",
    "- If it's a valid email address, return True\n",
    "- If it's an invalid email address, return False\n",
    "\n",
    "Call the function and show me how I could use it"
   ]
  },
  {
   "cell_type": "code",
   "execution_count": null,
   "metadata": {},
   "outputs": [],
   "source": [
    "def validate_email(email):\n",
    "    # Your code here\n",
    "    pass\n",
    "\n",
    "# Function that validates an email based on rules\n",
    "def validate_email(email):\n",
    "    # Check if the email contains an \"@\" and a \".\" after the \"@\"\n",
    "    if \"@\" in email and \".\" in email.split(\"@\")[1]:\n",
    "        return True\n",
    "    else:\n",
    "        return False\n",
    "\n",
    "# Test the function with some examples\n",
    "print(validate_email(\"test@example.com\"))  # Should print True\n",
    "print(validate_email(\"invalid-email.com\"))  # Should print False\n",
    "print(validate_email(\"another.test@domain.co\"))  # Should print True\n",
    "print(validate_email(\"wrong@domain@com\"))  # Should print True (Works in this simple version)\n",
    "print(validate_email(\"missingatdot\"))  # Should print False\n"
   ]
  },
  {
   "attachments": {},
   "cell_type": "markdown",
   "metadata": {},
   "source": [
    "### Task 7\n",
    "1. How do you create a list? Answer with code.\n",
    "2. Why do we need lists? Answer with words.\n",
    "3. What is an index? Answer with code and words.\n",
    "4. What is an element? Answer with code and words."
   ]
  },
  {
   "cell_type": "code",
   "execution_count": null,
   "metadata": {},
   "outputs": [],
   "source": [
    "# A list is a collection of items like words, numbers, or other things that you can store in Python\n",
    "# This is an example\n",
    "min_lista = []\n",
    "# Create a list of books\n",
    "bocker = [\"Harry Potter\", \"Stjärnklart\", \"1984\"]\n",
    "\n",
    "# To add a new book\n",
    "bocker.append(\"Mörka Materia\")\n",
    "\n",
    "# To print the first book in the list, you do this\n",
    "print(bocker[0])  # This prints \"Harry Potter\"\n",
    "\n",
    "\n"
   ]
  },
  {
   "cell_type": "code",
   "execution_count": null,
   "metadata": {},
   "outputs": [],
   "source": [
    "# What a list does is make it easier to manage data, keeping it organized and saving time\n"
   ]
  },
  {
   "cell_type": "code",
   "execution_count": null,
   "metadata": {},
   "outputs": [],
   "source": [
    "\n",
    "# An index is a way to count positions in a list. Each item in the list has a number that indicates its position.\n",
    "# The first position is called \"index 0\", the second position is called \"index 1\", and so on.\n",
    "# example\n",
    "# Create a list with, for example, fruits\n",
    "frukter = [\"äpple\", \"banan\", \"jordgubbe\"]\n",
    "\n",
    "# To get the first fruit, which is \"äpple\", use index 0\n",
    "forsta_frukten = frukter[0]\n",
    "\n",
    "# Print the first fruit\n",
    "print(forsta_frukten)  # This prints \"äpple\"\n",
    "\n"
   ]
  },
  {
   "cell_type": "code",
   "execution_count": null,
   "metadata": {},
   "outputs": [],
   "source": [
    "# An element is an item in a list.\n",
    "# List of fruits\n",
    "frukter = [\"äpple\", \"banan\", \"jordgubbe\"]\n",
    "\n",
    "# Retrieve the first element\n",
    "forsta_frukten = frukter[0]\n",
    "\n",
    "# Print the first element\n",
    "print(forsta_frukten)  # Prints \"äpple\"\n",
    "an element is \"äpple\".\n"
   ]
  },
  {
   "cell_type": "markdown",
   "metadata": {},
   "source": [
    "### Task 8"
   ]
  },
  {
   "cell_type": "markdown",
   "metadata": {},
   "source": [
    "1. How do you create a dictionary? Answer with code.\n",
    "2. Why do we need dictionaries? Answer with words.\n",
    "3. What is a key in a dictionary? Give an example with code and explain with words.\n",
    "4. What is a value in a dictionary? Give an example with code and explain with words.\n",
    "5. How do you add a new key-value pair to an existing dictionary? Show with code.\n",
    "6. How can you retrieve a value from a dictionary using its key? Show with code.\n",
    "7. What is the difference between a list and a dictionary? Explain with words and give an example of when it's appropriate to use a dictionary instead of a list.\n",
    "8. How can you loop through all key-value pairs in a dictionary? Show with code and briefly explain what the code does."
   ]
  },
  {
   "cell_type": "code",
   "execution_count": null,
   "metadata": {},
   "outputs": [],
   "source": [
    "# 1 my_dictionary = {}\n",
    "\n"
   ]
  },
  {
   "cell_type": "code",
   "execution_count": null,
   "metadata": {},
   "outputs": [],
   "source": [
    "#We need dictionaries because they make it easier to manage information, making it more efficient and saving time."
   ]
  },
  {
   "cell_type": "code",
   "execution_count": null,
   "metadata": {},
   "outputs": [],
   "source": [
    "# Dictionary with fruits and prices\n",
    "fruits = {\n",
    "    \"apple\": 10,  # \"apple\" is the key, 10 is the value\n",
    "    \"banana\": 5,  # \"banana\" is the key, 5 is the value\n",
    "    \"strawberry\": 15  # \"strawberry\" is the key, 15 is the value\n",
    "}\n",
    "\n",
    "# Retrieve the price of an apple\n",
    "price_of_apple = fruits[\"apple\"]\n",
    "\n",
    "# Print the price\n",
    "print(price_of_apple)  # Prints 10\n"
   ]
  },
  {
   "cell_type": "code",
   "execution_count": null,
   "metadata": {},
   "outputs": [],
   "source": [
    "# A dictionary with movies and their release years\n",
    "movies = {\n",
    "    \"Titanic\": 1587,          # \"Titanic\" is the key, 1587 is the value\n",
    "    \"Avatar\": 1996,           # \"Avatar\" is the key, 1996 is the value\n",
    "    \"Inception\": 1997         # \"Inception\" is the key, 1997 is the value\n",
    "}\n",
    "\n",
    "# Retrieve the release year for \"Avatar\"\n",
    "release_year_of_avatar = movies[\"Avatar\"]\n",
    "\n",
    "# Print the release year\n",
    "print(release_year_of_avatar)  # Prints 1996\n",
    "\n"
   ]
  },
  {
   "cell_type": "code",
   "execution_count": null,
   "metadata": {},
   "outputs": [],
   "source": [
    "# A dictionary with fruits and their colors\n",
    "fruits = {\n",
    "    \"banana\": \"yellow\"\n",
    "}\n",
    "\n",
    "# Add a new key-value pair for \"strawberry\"\n",
    "fruits[\"strawberry\"] = \"red\"\n"
   ]
  },
  {
   "cell_type": "code",
   "execution_count": null,
   "metadata": {},
   "outputs": [],
   "source": [
    "# A dictionary with fruits and prices\n",
    "fruits = {\n",
    "    \"apple\": 10,\n",
    "    \"banana\": 5\n",
    "}\n",
    "\n",
    "# Retrieve the price of an apple\n",
    "price_of_apple = fruits[\"apple\"]\n",
    "\n",
    "# Print the price\n",
    "print(price_of_apple)  # Prints 10\n"
   ]
  },
  {
   "cell_type": "code",
   "execution_count": null,
   "metadata": {},
   "outputs": [],
   "source": [
    "# A list is a series of different items where you can store multiple things without names, but to access what you are looking for, you use an index, which is a number.\n",
    "# Whereas in a dictionary, each item has a name that you use to access what you want.\n",
    "# A dictionary is useful when you want to store information related to different things, for example, if you want to store books and retrieve the author's name; \n",
    "# in that case, a dictionary is the best option. In a list, you store items without names, and you use numbers (indices) to access the values.\n"
   ]
  },
  {
   "cell_type": "code",
   "execution_count": null,
   "metadata": {},
   "outputs": [],
   "source": [
    "# 8 - Try to loop through the dictionary and print all key value pairs.\n",
    "inventory = {\n",
    "    \"apples\": 25,\n",
    "    \"bananas\": 40,\n",
    "    \"oranges\": 30,\n",
    "    \"pears\": 15,\n",
    "    \"kiwis\": 20\n",
    "}"
   ]
  },
  {
   "cell_type": "code",
   "execution_count": null,
   "metadata": {},
   "outputs": [],
   "source": []
  },
  {
   "cell_type": "code",
   "execution_count": null,
   "metadata": {},
   "outputs": [],
   "source": []
  },
  {
   "attachments": {},
   "cell_type": "markdown",
   "metadata": {},
   "source": [
    "### Task 9\n",
    "\n",
    "Why do we need flow control when programming (if-statements, loops)? Explain with words and code."
   ]
  },
  {
   "cell_type": "code",
   "execution_count": null,
   "metadata": {},
   "outputs": [],
   "source": [
    "# Answer: Hampus needs flow control to be able to control the program itself. Without it, the program would just run \n",
    "# without allowing you to make choices or repeat actions. We need it to make decisions and repeat code.\n",
    "\n",
    "# An if-statement checks if a condition is true and runs code based on that.\n",
    "age = 18\n",
    "\n",
    "if age >= 18:\n",
    "    print(\"You are allowed to drive!\")  # If the age is 18 or more, this will be printed\n",
    "else:\n",
    "    print(\"You are too young to drive.\")  # Otherwise, this will be printed\n",
    "\n",
    "# A loop repeats code until a certain condition is no longer true.\n",
    "for i in range(5):\n",
    "    print(i)\n",
    "\n",
    "\n"
   ]
  },
  {
   "attachments": {},
   "cell_type": "markdown",
   "metadata": {},
   "source": [
    "### Task 10\n",
    "\n",
    "Implement the function `return_first_negative_number(l)` so that it returns the first negative number in the list numbers_list which is the argument to the function.\n",
    "\n",
    "Hint: Use `for` and `if`"
   ]
  },
  {
   "cell_type": "code",
   "execution_count": null,
   "metadata": {},
   "outputs": [],
   "source": [
    "def return_first_negative_number(l):\n",
    "    # TODO\n",
    "    pass\n",
    "\n",
    "numbers_list = [4, 1, 34, 42, -20, 21, 49, -48, 40, 3, -21, 10, 37, 36]\n",
    "print(return_first_negative_number(numbers_list)) # Ska skriva ut -20"
   ]
  },
  {
   "attachments": {},
   "cell_type": "markdown",
   "metadata": {},
   "source": [
    "### Task 11\n",
    "\n",
    "Explain what \"in\" does in this code. The keyword is used twice, what is the difference between these two uses?\n",
    "\n",
    "Answer by commenting on the code"
   ]
  },
  {
   "cell_type": "code",
   "execution_count": 2,
   "metadata": {},
   "outputs": [],
   "source": [
    "names = [\"tobias\", \"andreas\", \"tove\"]\n",
    "new_names = []\n",
    "for name in names:# The \"in\" keyword here is used in a loop to iterate over each element in the list 'names'\n",
    "   if \"to\" in name:# The \"in\" keyword here checks if the substring \"to\" exists within the current string 'name'\n",
    "      new_names.append(name)\n",
    "\n"
   ]
  },
  {
   "attachments": {},
   "cell_type": "markdown",
   "metadata": {},
   "source": [
    "### Task 12"
   ]
  },
  {
   "attachments": {},
   "cell_type": "markdown",
   "metadata": {},
   "source": [
    "You have the following dictionary where the data describes a number of students. The key is their personal identification number, the value is another dictionary with data. You need to remove all students who have passed.\n",
    "How do you proceed? Write code and comment.\n",
    "\n",
    "Advice: You need to loop."
   ]
  },
  {
   "cell_type": "code",
   "execution_count": null,
   "metadata": {},
   "outputs": [],
   "source": [
    "student_grades = {\n",
    "    9210114413 : {\"grade\": 55, \"passed\": True},\n",
    "    9010054514 : {\"grade\": 22, \"passed\": False},\n",
    "    8504129392 : {\"grade\": 60, \"passed\": True},\n",
    "    9201134555 : {\"grade\": 15, \"passed\": False},\n",
    "}\n",
    "\n",
    "# Add code here\n",
    "# Original dictionary with student data\n",
    "\n",
    "# We use a list comprehension to collect the keys of students who have passed\n",
    "passed_students = [student_id for student_id, data in student_grades.items() if data[\"passed\"]]\n",
    "\n",
    "# Loop through the collected keys and remove each from the dictionary\n",
    "for student_id in passed_students:\n",
    "    del student_grades[student_id]\n",
    "\n",
    "# Print the updated dictionary to verify the changes\n",
    "print(student_grades)\n"
   ]
  },
  {
   "attachments": {},
   "cell_type": "markdown",
   "metadata": {},
   "source": [
    "### Task 13\n",
    "\n",
    "You have a list consisting of dictionaries. Each dictionary represents data for an individual student in a system.\n",
    "\n",
    "You want to create a new list that only consists of students where \"Passed\" is True, how do you do it?\n",
    "\n",
    "**Tip** Utilize lists, loops and if-statements.\n",
    "\n",
    "**Answer with code**"
   ]
  },
  {
   "cell_type": "code",
   "execution_count": null,
   "metadata": {},
   "outputs": [],
   "source": [
    "students = [\n",
    "    {'name': 'John', 'age': 18, 'passed': True, 'major': 'computer science', 'GPA': 3.8},\n",
    "    {'name': 'Jane', 'age': 19, 'passed': False, 'major': 'biology', 'GPA': 3.2},\n",
    "    {'name': 'Bob', 'age': 20, 'passed': True, 'major': 'engineering', 'GPA': 3.5},\n",
    "    {'name': 'Alice', 'age': 21, 'passed': False, 'major': 'history', 'GPA': 2.9},\n",
    "    {'name': 'David', 'age': 22, 'passed': True, 'major': 'business', 'GPA': 3.6}\n",
    "]\n",
    "\n",
    "# Lägg till\n",
    "\n",
    "# Create a new list that only includes students where \"passed\" is True\n",
    "passed_students = [student for student in students if student['passed']]\n",
    "\n",
    "# Print the new list to verify the result\n",
    "print(passed_students)\n"
   ]
  },
  {
   "attachments": {},
   "cell_type": "markdown",
   "metadata": {},
   "source": [
    "### Task 14\n",
    "Suppose you have a register of the entire Swedish population (about 10 million inhabitants) that we have saved in a dictionary with their social security number as the key and other data as the value.\n",
    "For example:\n",
    "```python\n",
    "swedish_ssn_collection = {199105125545: {}...}\n",
    "```\n",
    "Why is it a reasonable choice to use a dictionary instead of, for example, a list, with regard to e.g. performance?\n",
    "\n",
    "**Answer with text.**"
   ]
  },
  {
   "cell_type": "code",
   "execution_count": null,
   "metadata": {},
   "outputs": [],
   "source": [
    "#A dictionary is great for quickly finding a person using their social security number.\n",
    "#If we used a list, we would have to search through all 10 million people one by one, which takes more time.\n",
    "#With a dictionary, we find the information instantly; it's more efficient."
   ]
  },
  {
   "attachments": {},
   "cell_type": "markdown",
   "metadata": {},
   "source": [
    "# Del 2"
   ]
  },
  {
   "attachments": {},
   "cell_type": "markdown",
   "metadata": {},
   "source": [
    "In the folder, you will find two additional Python files.\n",
    "Instructions are provided in each file. Remember - you should not use AI as an aid - this type of task helps you practice problem-solving.\n",
    "\n",
    "Try to comment on your code with brief explanations where you feel it's relevant."
   ]
  },
  {
   "attachments": {},
   "cell_type": "markdown",
   "metadata": {},
   "source": [
    "### 1 - Number generator\n",
    "You need to solve the task found in program_1.py - It trains you in dividing logic into functions and shows how we can create a simple console program that utilizes a menu."
   ]
  },
  {
   "attachments": {},
   "cell_type": "markdown",
   "metadata": {},
   "source": [
    "### 2 - Inventory management system\n",
    "\n",
    "You need to solve the task found in program_2.py - It is more difficult than program_1, and trains you in working with if-statements and loops, but above all in being able to work with a list of dictionaries (something that is extremely common!)"
   ]
  }
 ],
 "metadata": {
  "kernelspec": {
   "display_name": "venv",
   "language": "python",
   "name": "python3"
  },
  "language_info": {
   "codemirror_mode": {
    "name": "ipython",
    "version": 3
   },
   "file_extension": ".py",
   "mimetype": "text/x-python",
   "name": "python",
   "nbconvert_exporter": "python",
   "pygments_lexer": "ipython3",
   "version": "3.10.6"
  },
  "orig_nbformat": 4
 },
 "nbformat": 4,
 "nbformat_minor": 2
}
